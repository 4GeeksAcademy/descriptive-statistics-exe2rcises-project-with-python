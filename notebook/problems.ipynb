{
 "cells": [
  {
   "cell_type": "markdown",
   "id": "ac622319",
   "metadata": {},
   "source": [
    "# Descriptive statistics problems"
   ]
  },
  {
   "cell_type": "markdown",
   "id": "5e0ab0d5",
   "metadata": {},
   "source": [
    "### Exercise 1\n",
    "\n",
    "We will use NumPy to obtain information to describe statistically.\n",
    "\n",
    "- Generate an array of 100 elements following a normal distribution.\n",
    "- Generate an array of 100 elements following a chi-square distribution with 3 degrees of freedom.\n",
    "- Calculate the main metrics and statistical measures that best describe the two vectors."
   ]
  },
  {
   "cell_type": "code",
   "execution_count": null,
   "id": "34720ab6",
   "metadata": {},
   "outputs": [
    {
     "data": {
      "text/plain": [
       "ModeResult(mode=np.float64(99.37877825212819), count=np.int64(1))"
      ]
     },
     "execution_count": 12,
     "metadata": {},
     "output_type": "execute_result"
    }
   ],
   "source": [
    "import numpy as np\n",
    "from scipy import stats as st\n",
    "\n",
    "arr = np.random.normal(100);\n",
    "arr2 = np.random.chisquare(100);\n",
    "# Some basic stats\n",
    "\n",
    "# Mean\n",
    "\n",
    "meean_arr = np.mean(arr)\n",
    "mean_arr2 = np.mean(arr2)\n",
    "\n",
    "# Median\n",
    "\n",
    "\n",
    "median_arr = np.median(arr);\n",
    "median_arr2=np.median(arr2);\n",
    "\n",
    "#Mode\n",
    "mode_arr = st.mode(arr)\n",
    "mode_arr2 = st.mode(arr)\n",
    "\n",
    "\n",
    "# Standard Deviation\n",
    "\n",
    "std_arr = np.std(arr);\n",
    "std_arr2 = np.std(arr2);\n",
    "\n",
    "# range \n",
    "\n",
    "range_1 = np.max(arr)- np.min(arr);\n",
    "range_2 = np.max(arr2) - np.min(arr2);\n",
    "\n",
    "\n",
    "\n",
    "\n"
   ]
  },
  {
   "cell_type": "markdown",
   "id": "46c70c3d",
   "metadata": {},
   "source": [
    "### Exercise 2\n",
    "\n",
    "Write a Python program to calculate the standard deviation of the following data:\n",
    "\n",
    "```py\n",
    "data = [4, 2, 5, 8, 6]\n",
    "```"
   ]
  },
  {
   "cell_type": "code",
   "execution_count": 29,
   "id": "d590308e",
   "metadata": {},
   "outputs": [
    {
     "data": {
      "text/plain": [
       "np.float64(2.0)"
      ]
     },
     "execution_count": 29,
     "metadata": {},
     "output_type": "execute_result"
    }
   ],
   "source": [
    "def standar_dev(data):\n",
    "\n",
    "    l = [];\n",
    "\n",
    "    for i in data:\n",
    "        diff_ = l.append(i-np.mean(data))\n",
    "    return (np.sum(np.array(l)**2)/len(data))**0.5\n",
    "\n",
    "data = [4,2,5,8,6]\n",
    "\n",
    "standar_dev(data)"
   ]
  },
  {
   "cell_type": "code",
   "execution_count": null,
   "id": "729b7790",
   "metadata": {},
   "outputs": [],
   "source": []
  }
 ],
 "metadata": {
  "kernelspec": {
   "display_name": "Python 3",
   "language": "python",
   "name": "python3"
  },
  "language_info": {
   "codemirror_mode": {
    "name": "ipython",
    "version": 3
   },
   "file_extension": ".py",
   "mimetype": "text/x-python",
   "name": "python",
   "nbconvert_exporter": "python",
   "pygments_lexer": "ipython3",
   "version": "3.11.4"
  }
 },
 "nbformat": 4,
 "nbformat_minor": 5
}
